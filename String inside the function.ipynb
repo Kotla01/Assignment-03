{
 "cells": [
  {
   "cell_type": "code",
   "execution_count": 3,
   "id": "5deb70fb",
   "metadata": {},
   "outputs": [
    {
     "name": "stdout",
     "output_type": "stream",
     "text": [
      "Please enter a String : \"1234abcd\"\n",
      "The Reversed String =  \"dcba4321\"\n"
     ]
    }
   ],
   "source": [
    "def StringReverse(str1):\n",
    "    str2 = str1[::-1]\n",
    "    return str2\n",
    "string = input(\"Please enter a String : \")\n",
    "string2 = StringReverse(string)\n",
    "print(\"The Reversed String = \", string2)"
   ]
  },
  {
   "cell_type": "code",
   "execution_count": null,
   "id": "31787765",
   "metadata": {},
   "outputs": [],
   "source": []
  }
 ],
 "metadata": {
  "kernelspec": {
   "display_name": "Python 3 (ipykernel)",
   "language": "python",
   "name": "python3"
  },
  "language_info": {
   "codemirror_mode": {
    "name": "ipython",
    "version": 3
   },
   "file_extension": ".py",
   "mimetype": "text/x-python",
   "name": "python",
   "nbconvert_exporter": "python",
   "pygments_lexer": "ipython3",
   "version": "3.9.7"
  }
 },
 "nbformat": 4,
 "nbformat_minor": 5
}
